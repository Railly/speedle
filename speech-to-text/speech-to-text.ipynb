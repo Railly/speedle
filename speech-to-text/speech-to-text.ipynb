{
  "cells": [
    {
      "cell_type": "code",
      "execution_count": 22,
      "metadata": {
        "colab": {
          "base_uri": "https://localhost:8080/",
          "height": 0
        },
        "id": "Tv-ICpB7bb5f",
        "outputId": "7ade9d38-85d9-487e-caa9-28b3307b2596"
      },
      "outputs": [
        {
          "name": "stdout",
          "output_type": "stream",
          "text": [
            "Requirement already satisfied: openai in /usr/local/lib/python3.10/dist-packages (1.3.8)\n",
            "Requirement already satisfied: anyio<5,>=3.5.0 in /usr/local/lib/python3.10/dist-packages (from openai) (3.7.1)\n",
            "Requirement already satisfied: distro<2,>=1.7.0 in /usr/lib/python3/dist-packages (from openai) (1.7.0)\n",
            "Requirement already satisfied: httpx<1,>=0.23.0 in /usr/local/lib/python3.10/dist-packages (from openai) (0.25.2)\n",
            "Requirement already satisfied: pydantic<3,>=1.9.0 in /usr/local/lib/python3.10/dist-packages (from openai) (1.10.13)\n",
            "Requirement already satisfied: sniffio in /usr/local/lib/python3.10/dist-packages (from openai) (1.3.0)\n",
            "Requirement already satisfied: tqdm>4 in /usr/local/lib/python3.10/dist-packages (from openai) (4.66.1)\n",
            "Requirement already satisfied: typing-extensions<5,>=4.5 in /usr/local/lib/python3.10/dist-packages (from openai) (4.5.0)\n",
            "Requirement already satisfied: idna>=2.8 in /usr/local/lib/python3.10/dist-packages (from anyio<5,>=3.5.0->openai) (3.6)\n",
            "Requirement already satisfied: exceptiongroup in /usr/local/lib/python3.10/dist-packages (from anyio<5,>=3.5.0->openai) (1.2.0)\n",
            "Requirement already satisfied: certifi in /usr/local/lib/python3.10/dist-packages (from httpx<1,>=0.23.0->openai) (2023.11.17)\n",
            "Requirement already satisfied: httpcore==1.* in /usr/local/lib/python3.10/dist-packages (from httpx<1,>=0.23.0->openai) (1.0.2)\n",
            "Requirement already satisfied: h11<0.15,>=0.13 in /usr/local/lib/python3.10/dist-packages (from httpcore==1.*->httpx<1,>=0.23.0->openai) (0.14.0)\n"
          ]
        }
      ],
      "source": [
        "%pip install --upgrade openai"
      ]
    },
    {
      "cell_type": "code",
      "execution_count": 9,
      "metadata": {
        "id": "qNJi9oeBcgAY"
      },
      "outputs": [],
      "source": [
        "COURSE_NAME = \"percepcion-computacional\"\n",
        "# Directories for videos and audio files\n",
        "videos_folder = f'videos/{COURSE_NAME}'\n",
        "audio_folder = f'audio/{COURSE_NAME}'\n",
        "transcripts_folder = f'transcripts/{COURSE_NAME}'\n",
        "csv_file = f'videos_csv/{COURSE_NAME}.csv'"
      ]
    },
    {
      "cell_type": "markdown",
      "metadata": {
        "id": "tp3-WwbVafsk"
      },
      "source": [
        "### First me want to capture the VideoURL from the HTML response"
      ]
    },
    {
      "cell_type": "code",
      "execution_count": 24,
      "metadata": {
        "id": "gKpWESTCaWNU"
      },
      "outputs": [],
      "source": [
        "import requests\n",
        "import re"
      ]
    },
    {
      "cell_type": "code",
      "execution_count": 25,
      "metadata": {
        "id": "ks3zqOxnahA2"
      },
      "outputs": [],
      "source": [
        "def get_video_url(page_url):\n",
        "    \"\"\" Fetch the webpage and extract the video URL \"\"\"\n",
        "    try:\n",
        "        response = requests.get(page_url)\n",
        "        text = response.text\n",
        "        video_url_regex = r'\"VideoUrl\":\"(.*?)\"'\n",
        "        match = re.search(video_url_regex, text)\n",
        "        if match:\n",
        "            dirty_url = match.group(1)\n",
        "            video_url = dirty_url.replace('\\\\/', '/')\n",
        "            return video_url\n",
        "    except Exception as e:\n",
        "        print(f'Error fetching video URL from {page_url}:', e)\n",
        "    return None"
      ]
    },
    {
      "cell_type": "markdown",
      "metadata": {
        "id": "s6kZgEwmanKV"
      },
      "source": [
        "### Then write the video to a file"
      ]
    },
    {
      "cell_type": "code",
      "execution_count": 26,
      "metadata": {
        "id": "_cMGwDJpan0o"
      },
      "outputs": [],
      "source": [
        "def write_video(video_url, filename):\n",
        "    \"\"\" Download the video and write it to the filesystem \"\"\"\n",
        "    try:\n",
        "        video_response = requests.get(video_url, stream=True)\n",
        "        with open(filename, 'wb') as f:\n",
        "            for chunk in video_response.iter_content(chunk_size=1024):\n",
        "                if chunk:\n",
        "                    f.write(chunk)\n",
        "        print(f'File {filename} has been written')\n",
        "    except Exception as e:\n",
        "        print(f'Error writing video to {filename}:', e)"
      ]
    },
    {
      "cell_type": "markdown",
      "metadata": {
        "id": "RfQHC7GWaq6G"
      },
      "source": [
        "### Finally we want to perform the same operation for all the videos under the videos folder"
      ]
    },
    {
      "cell_type": "code",
      "execution_count": 3,
      "metadata": {
        "id": "lRjsh6RPasgp"
      },
      "outputs": [],
      "source": [
        "import os\n",
        "import pandas as pd"
      ]
    },
    {
      "cell_type": "code",
      "execution_count": 30,
      "metadata": {
        "id": "AHDxEmOJaw4u"
      },
      "outputs": [],
      "source": [
        "def download_videos(csv_file_path, output_folder):\n",
        "    df = pd.read_csv(csv_file_path)\n",
        "\n",
        "    os.makedirs(output_folder, exist_ok=True)\n",
        "\n",
        "    for i, page_url in enumerate(df['link']):\n",
        "        video_url = get_video_url(page_url)\n",
        "        if video_url:\n",
        "            filename = os.path.join(output_folder, f'video_{i+1}.mp4')\n",
        "            write_video(video_url, filename)"
      ]
    },
    {
      "cell_type": "markdown",
      "metadata": {
        "id": "bqMyXJewa2lp"
      },
      "source": [
        "## Percepción Computacional -> MP4"
      ]
    },
    {
      "cell_type": "code",
      "execution_count": 31,
      "metadata": {
        "colab": {
          "base_uri": "https://localhost:8080/",
          "height": 0
        },
        "id": "WQZCKnzpa4Le",
        "outputId": "95314e53-9c6e-4021-dee9-7e1bb29674c6"
      },
      "outputs": [
        {
          "name": "stdout",
          "output_type": "stream",
          "text": [
            "File videos/inteligencia-artificial-y-computacion-cognitiva/video_1.mp4 has been written\n",
            "File videos/inteligencia-artificial-y-computacion-cognitiva/video_2.mp4 has been written\n",
            "File videos/inteligencia-artificial-y-computacion-cognitiva/video_3.mp4 has been written\n",
            "File videos/inteligencia-artificial-y-computacion-cognitiva/video_4.mp4 has been written\n",
            "File videos/inteligencia-artificial-y-computacion-cognitiva/video_5.mp4 has been written\n",
            "File videos/inteligencia-artificial-y-computacion-cognitiva/video_6.mp4 has been written\n",
            "File videos/inteligencia-artificial-y-computacion-cognitiva/video_7.mp4 has been written\n",
            "File videos/inteligencia-artificial-y-computacion-cognitiva/video_8.mp4 has been written\n",
            "File videos/inteligencia-artificial-y-computacion-cognitiva/video_9.mp4 has been written\n",
            "File videos/inteligencia-artificial-y-computacion-cognitiva/video_10.mp4 has been written\n",
            "File videos/inteligencia-artificial-y-computacion-cognitiva/video_11.mp4 has been written\n",
            "File videos/inteligencia-artificial-y-computacion-cognitiva/video_12.mp4 has been written\n",
            "File videos/inteligencia-artificial-y-computacion-cognitiva/video_13.mp4 has been written\n",
            "File videos/inteligencia-artificial-y-computacion-cognitiva/video_14.mp4 has been written\n",
            "File videos/inteligencia-artificial-y-computacion-cognitiva/video_15.mp4 has been written\n",
            "File videos/inteligencia-artificial-y-computacion-cognitiva/video_16.mp4 has been written\n",
            "File videos/inteligencia-artificial-y-computacion-cognitiva/video_17.mp4 has been written\n",
            "File videos/inteligencia-artificial-y-computacion-cognitiva/video_18.mp4 has been written\n",
            "File videos/inteligencia-artificial-y-computacion-cognitiva/video_19.mp4 has been written\n",
            "File videos/inteligencia-artificial-y-computacion-cognitiva/video_20.mp4 has been written\n",
            "File videos/inteligencia-artificial-y-computacion-cognitiva/video_21.mp4 has been written\n",
            "File videos/inteligencia-artificial-y-computacion-cognitiva/video_22.mp4 has been written\n",
            "File videos/inteligencia-artificial-y-computacion-cognitiva/video_23.mp4 has been written\n",
            "File videos/inteligencia-artificial-y-computacion-cognitiva/video_24.mp4 has been written\n",
            "File videos/inteligencia-artificial-y-computacion-cognitiva/video_25.mp4 has been written\n",
            "File videos/inteligencia-artificial-y-computacion-cognitiva/video_26.mp4 has been written\n",
            "File videos/inteligencia-artificial-y-computacion-cognitiva/video_27.mp4 has been written\n",
            "File videos/inteligencia-artificial-y-computacion-cognitiva/video_28.mp4 has been written\n",
            "File videos/inteligencia-artificial-y-computacion-cognitiva/video_29.mp4 has been written\n",
            "File videos/inteligencia-artificial-y-computacion-cognitiva/video_30.mp4 has been written\n",
            "File videos/inteligencia-artificial-y-computacion-cognitiva/video_31.mp4 has been written\n",
            "File videos/inteligencia-artificial-y-computacion-cognitiva/video_32.mp4 has been written\n",
            "File videos/inteligencia-artificial-y-computacion-cognitiva/video_33.mp4 has been written\n",
            "File videos/inteligencia-artificial-y-computacion-cognitiva/video_34.mp4 has been written\n",
            "File videos/inteligencia-artificial-y-computacion-cognitiva/video_35.mp4 has been written\n",
            "File videos/inteligencia-artificial-y-computacion-cognitiva/video_36.mp4 has been written\n",
            "File videos/inteligencia-artificial-y-computacion-cognitiva/video_37.mp4 has been written\n",
            "File videos/inteligencia-artificial-y-computacion-cognitiva/video_38.mp4 has been written\n",
            "File videos/inteligencia-artificial-y-computacion-cognitiva/video_39.mp4 has been written\n",
            "File videos/inteligencia-artificial-y-computacion-cognitiva/video_40.mp4 has been written\n",
            "File videos/inteligencia-artificial-y-computacion-cognitiva/video_41.mp4 has been written\n",
            "File videos/inteligencia-artificial-y-computacion-cognitiva/video_42.mp4 has been written\n",
            "File videos/inteligencia-artificial-y-computacion-cognitiva/video_43.mp4 has been written\n",
            "File videos/inteligencia-artificial-y-computacion-cognitiva/video_44.mp4 has been written\n",
            "File videos/inteligencia-artificial-y-computacion-cognitiva/video_45.mp4 has been written\n",
            "File videos/inteligencia-artificial-y-computacion-cognitiva/video_46.mp4 has been written\n",
            "File videos/inteligencia-artificial-y-computacion-cognitiva/video_47.mp4 has been written\n",
            "File videos/inteligencia-artificial-y-computacion-cognitiva/video_48.mp4 has been written\n",
            "File videos/inteligencia-artificial-y-computacion-cognitiva/video_49.mp4 has been written\n",
            "File videos/inteligencia-artificial-y-computacion-cognitiva/video_50.mp4 has been written\n",
            "File videos/inteligencia-artificial-y-computacion-cognitiva/video_51.mp4 has been written\n",
            "File videos/inteligencia-artificial-y-computacion-cognitiva/video_52.mp4 has been written\n",
            "File videos/inteligencia-artificial-y-computacion-cognitiva/video_53.mp4 has been written\n",
            "File videos/inteligencia-artificial-y-computacion-cognitiva/video_54.mp4 has been written\n",
            "File videos/inteligencia-artificial-y-computacion-cognitiva/video_55.mp4 has been written\n",
            "File videos/inteligencia-artificial-y-computacion-cognitiva/video_56.mp4 has been written\n",
            "File videos/inteligencia-artificial-y-computacion-cognitiva/video_57.mp4 has been written\n",
            "File videos/inteligencia-artificial-y-computacion-cognitiva/video_58.mp4 has been written\n"
          ]
        }
      ],
      "source": [
        "output_folder = videos_folder\n",
        "download_videos(csv_file, output_folder)"
      ]
    },
    {
      "cell_type": "markdown",
      "metadata": {
        "id": "BYacQgQRa_69"
      },
      "source": [
        "### Pricing Calculation"
      ]
    },
    {
      "cell_type": "code",
      "execution_count": 32,
      "metadata": {
        "id": "e2jLWOi0bCRb"
      },
      "outputs": [],
      "source": [
        "from moviepy.editor import VideoFileClip"
      ]
    },
    {
      "cell_type": "code",
      "execution_count": 33,
      "metadata": {
        "id": "knrmQrq3bFZO"
      },
      "outputs": [],
      "source": [
        "def calculate_video_length(video_path):\n",
        "    \"\"\" Calculate the length of a video in minutes \"\"\"\n",
        "    with VideoFileClip(video_path) as video:\n",
        "        return video.duration / 60  # duration in minutes"
      ]
    },
    {
      "cell_type": "code",
      "execution_count": 34,
      "metadata": {
        "id": "nP0Rbbv_bHaD"
      },
      "outputs": [],
      "source": [
        "def calculate_whisper_pricing(folder_path):\n",
        "    \"\"\" Calculate the total cost for Whisper API based on the length of all videos \"\"\"\n",
        "    total_minutes = 0\n",
        "    whisper_cost_per_minute = 0.006\n",
        "\n",
        "    for filename in os.listdir(folder_path):\n",
        "        if filename.endswith('.mp4'):\n",
        "            video_path = os.path.join(folder_path, filename)\n",
        "            video_length = calculate_video_length(video_path)\n",
        "            total_minutes += video_length\n",
        "\n",
        "    total_cost = total_minutes * whisper_cost_per_minute\n",
        "    return total_cost, total_minutes\n"
      ]
    },
    {
      "cell_type": "code",
      "execution_count": 35,
      "metadata": {
        "colab": {
          "base_uri": "https://localhost:8080/",
          "height": 0
        },
        "id": "iB1A8_srbKO2",
        "outputId": "6c15de2f-edff-4aba-ea61-94169d5c8cae"
      },
      "outputs": [
        {
          "name": "stdout",
          "output_type": "stream",
          "text": [
            "Total minutes of video: 390.72\n",
            "Total cost for using Whisper API: $2.34\n"
          ]
        }
      ],
      "source": [
        "folder_path = videos_folder\n",
        "total_cost, total_minutes = calculate_whisper_pricing(folder_path)\n",
        "print(f\"Total minutes of video: {total_minutes:.2f}\")\n",
        "print(f\"Total cost for using Whisper API: ${total_cost:.2f}\")"
      ]
    },
    {
      "cell_type": "code",
      "execution_count": 36,
      "metadata": {
        "id": "ENUXKnhQbOOx"
      },
      "outputs": [],
      "source": [
        "def convert_mp4_to_mp3(mp4_file_path, mp3_file_path):\n",
        "    \"\"\" Convert an MP4 video file to an MP3 audio file \"\"\"\n",
        "    clip = VideoFileClip(mp4_file_path)\n",
        "    clip.audio.write_audiofile(mp3_file_path, codec='mp3')"
      ]
    },
    {
      "cell_type": "code",
      "execution_count": 37,
      "metadata": {
        "id": "th7-nJ5_bRez"
      },
      "outputs": [],
      "source": [
        "def convert_videos_to_audio(videos_folder, audio_folder):\n",
        "    \"\"\" Convert all MP4 files in a folder to MP3 files in another folder \"\"\"\n",
        "    os.makedirs(audio_folder, exist_ok=True)\n",
        "\n",
        "    for filename in os.listdir(videos_folder):\n",
        "        if filename.endswith('.mp4'):\n",
        "            mp4_file_path = os.path.join(videos_folder, filename)\n",
        "            mp3_filename = filename.replace('.mp4', '.mp3')\n",
        "            mp3_file_path = os.path.join(audio_folder, mp3_filename)\n",
        "\n",
        "            convert_mp4_to_mp3(mp4_file_path, mp3_file_path)\n",
        "            print(f\"Converted {mp4_file_path} to {mp3_file_path}\")"
      ]
    },
    {
      "cell_type": "code",
      "execution_count": 38,
      "metadata": {
        "colab": {
          "base_uri": "https://localhost:8080/",
          "height": 0
        },
        "id": "jglLI8NJbTiv",
        "outputId": "69623dbd-07f4-4665-a91a-2a9aea7cdf0f"
      },
      "outputs": [
        {
          "name": "stdout",
          "output_type": "stream",
          "text": [
            "MoviePy - Writing audio in audio/inteligencia-artificial-y-computacion-cognitiva/video_14.mp3\n"
          ]
        },
        {
          "name": "stderr",
          "output_type": "stream",
          "text": []
        },
        {
          "name": "stdout",
          "output_type": "stream",
          "text": [
            "MoviePy - Done.\n",
            "Converted videos/inteligencia-artificial-y-computacion-cognitiva/video_14.mp4 to audio/inteligencia-artificial-y-computacion-cognitiva/video_14.mp3\n",
            "MoviePy - Writing audio in audio/inteligencia-artificial-y-computacion-cognitiva/video_23.mp3\n"
          ]
        },
        {
          "name": "stderr",
          "output_type": "stream",
          "text": []
        },
        {
          "name": "stdout",
          "output_type": "stream",
          "text": [
            "MoviePy - Done.\n",
            "Converted videos/inteligencia-artificial-y-computacion-cognitiva/video_23.mp4 to audio/inteligencia-artificial-y-computacion-cognitiva/video_23.mp3\n",
            "MoviePy - Writing audio in audio/inteligencia-artificial-y-computacion-cognitiva/video_16.mp3\n"
          ]
        },
        {
          "name": "stderr",
          "output_type": "stream",
          "text": []
        },
        {
          "name": "stdout",
          "output_type": "stream",
          "text": [
            "MoviePy - Done.\n",
            "Converted videos/inteligencia-artificial-y-computacion-cognitiva/video_16.mp4 to audio/inteligencia-artificial-y-computacion-cognitiva/video_16.mp3\n",
            "MoviePy - Writing audio in audio/inteligencia-artificial-y-computacion-cognitiva/video_49.mp3\n"
          ]
        },
        {
          "name": "stderr",
          "output_type": "stream",
          "text": []
        },
        {
          "name": "stdout",
          "output_type": "stream",
          "text": [
            "MoviePy - Done.\n",
            "Converted videos/inteligencia-artificial-y-computacion-cognitiva/video_49.mp4 to audio/inteligencia-artificial-y-computacion-cognitiva/video_49.mp3\n",
            "MoviePy - Writing audio in audio/inteligencia-artificial-y-computacion-cognitiva/video_56.mp3\n"
          ]
        },
        {
          "name": "stderr",
          "output_type": "stream",
          "text": []
        },
        {
          "name": "stdout",
          "output_type": "stream",
          "text": [
            "MoviePy - Done.\n",
            "Converted videos/inteligencia-artificial-y-computacion-cognitiva/video_56.mp4 to audio/inteligencia-artificial-y-computacion-cognitiva/video_56.mp3\n",
            "MoviePy - Writing audio in audio/inteligencia-artificial-y-computacion-cognitiva/video_51.mp3\n"
          ]
        },
        {
          "name": "stderr",
          "output_type": "stream",
          "text": []
        },
        {
          "name": "stdout",
          "output_type": "stream",
          "text": [
            "MoviePy - Done.\n",
            "Converted videos/inteligencia-artificial-y-computacion-cognitiva/video_51.mp4 to audio/inteligencia-artificial-y-computacion-cognitiva/video_51.mp3\n",
            "MoviePy - Writing audio in audio/inteligencia-artificial-y-computacion-cognitiva/video_54.mp3\n"
          ]
        },
        {
          "name": "stderr",
          "output_type": "stream",
          "text": []
        },
        {
          "name": "stdout",
          "output_type": "stream",
          "text": [
            "MoviePy - Done.\n",
            "Converted videos/inteligencia-artificial-y-computacion-cognitiva/video_54.mp4 to audio/inteligencia-artificial-y-computacion-cognitiva/video_54.mp3\n",
            "MoviePy - Writing audio in audio/inteligencia-artificial-y-computacion-cognitiva/video_31.mp3\n"
          ]
        },
        {
          "name": "stderr",
          "output_type": "stream",
          "text": []
        },
        {
          "name": "stdout",
          "output_type": "stream",
          "text": [
            "MoviePy - Done.\n",
            "Converted videos/inteligencia-artificial-y-computacion-cognitiva/video_31.mp4 to audio/inteligencia-artificial-y-computacion-cognitiva/video_31.mp3\n",
            "MoviePy - Writing audio in audio/inteligencia-artificial-y-computacion-cognitiva/video_52.mp3\n"
          ]
        },
        {
          "name": "stderr",
          "output_type": "stream",
          "text": []
        },
        {
          "name": "stdout",
          "output_type": "stream",
          "text": [
            "MoviePy - Done.\n",
            "Converted videos/inteligencia-artificial-y-computacion-cognitiva/video_52.mp4 to audio/inteligencia-artificial-y-computacion-cognitiva/video_52.mp3\n",
            "MoviePy - Writing audio in audio/inteligencia-artificial-y-computacion-cognitiva/video_3.mp3\n"
          ]
        },
        {
          "name": "stderr",
          "output_type": "stream",
          "text": []
        },
        {
          "name": "stdout",
          "output_type": "stream",
          "text": [
            "MoviePy - Done.\n",
            "Converted videos/inteligencia-artificial-y-computacion-cognitiva/video_3.mp4 to audio/inteligencia-artificial-y-computacion-cognitiva/video_3.mp3\n",
            "MoviePy - Writing audio in audio/inteligencia-artificial-y-computacion-cognitiva/video_15.mp3\n"
          ]
        },
        {
          "name": "stderr",
          "output_type": "stream",
          "text": []
        },
        {
          "name": "stdout",
          "output_type": "stream",
          "text": [
            "MoviePy - Done.\n",
            "Converted videos/inteligencia-artificial-y-computacion-cognitiva/video_15.mp4 to audio/inteligencia-artificial-y-computacion-cognitiva/video_15.mp3\n",
            "MoviePy - Writing audio in audio/inteligencia-artificial-y-computacion-cognitiva/video_30.mp3\n"
          ]
        },
        {
          "name": "stderr",
          "output_type": "stream",
          "text": []
        },
        {
          "name": "stdout",
          "output_type": "stream",
          "text": [
            "MoviePy - Done.\n",
            "Converted videos/inteligencia-artificial-y-computacion-cognitiva/video_30.mp4 to audio/inteligencia-artificial-y-computacion-cognitiva/video_30.mp3\n",
            "MoviePy - Writing audio in audio/inteligencia-artificial-y-computacion-cognitiva/video_13.mp3\n"
          ]
        },
        {
          "name": "stderr",
          "output_type": "stream",
          "text": []
        },
        {
          "name": "stdout",
          "output_type": "stream",
          "text": [
            "MoviePy - Done.\n",
            "Converted videos/inteligencia-artificial-y-computacion-cognitiva/video_13.mp4 to audio/inteligencia-artificial-y-computacion-cognitiva/video_13.mp3\n",
            "MoviePy - Writing audio in audio/inteligencia-artificial-y-computacion-cognitiva/video_41.mp3\n"
          ]
        },
        {
          "name": "stderr",
          "output_type": "stream",
          "text": []
        },
        {
          "name": "stdout",
          "output_type": "stream",
          "text": [
            "MoviePy - Done.\n",
            "Converted videos/inteligencia-artificial-y-computacion-cognitiva/video_41.mp4 to audio/inteligencia-artificial-y-computacion-cognitiva/video_41.mp3\n",
            "MoviePy - Writing audio in audio/inteligencia-artificial-y-computacion-cognitiva/video_9.mp3\n"
          ]
        },
        {
          "name": "stderr",
          "output_type": "stream",
          "text": []
        },
        {
          "name": "stdout",
          "output_type": "stream",
          "text": [
            "MoviePy - Done.\n",
            "Converted videos/inteligencia-artificial-y-computacion-cognitiva/video_9.mp4 to audio/inteligencia-artificial-y-computacion-cognitiva/video_9.mp3\n",
            "MoviePy - Writing audio in audio/inteligencia-artificial-y-computacion-cognitiva/video_48.mp3\n"
          ]
        },
        {
          "name": "stderr",
          "output_type": "stream",
          "text": []
        },
        {
          "name": "stdout",
          "output_type": "stream",
          "text": [
            "MoviePy - Done.\n",
            "Converted videos/inteligencia-artificial-y-computacion-cognitiva/video_48.mp4 to audio/inteligencia-artificial-y-computacion-cognitiva/video_48.mp3\n",
            "MoviePy - Writing audio in audio/inteligencia-artificial-y-computacion-cognitiva/video_17.mp3\n"
          ]
        },
        {
          "name": "stderr",
          "output_type": "stream",
          "text": []
        },
        {
          "name": "stdout",
          "output_type": "stream",
          "text": [
            "MoviePy - Done.\n",
            "Converted videos/inteligencia-artificial-y-computacion-cognitiva/video_17.mp4 to audio/inteligencia-artificial-y-computacion-cognitiva/video_17.mp3\n",
            "MoviePy - Writing audio in audio/inteligencia-artificial-y-computacion-cognitiva/video_46.mp3\n"
          ]
        },
        {
          "name": "stderr",
          "output_type": "stream",
          "text": []
        },
        {
          "name": "stdout",
          "output_type": "stream",
          "text": [
            "MoviePy - Done.\n",
            "Converted videos/inteligencia-artificial-y-computacion-cognitiva/video_46.mp4 to audio/inteligencia-artificial-y-computacion-cognitiva/video_46.mp3\n",
            "MoviePy - Writing audio in audio/inteligencia-artificial-y-computacion-cognitiva/video_24.mp3\n"
          ]
        },
        {
          "name": "stderr",
          "output_type": "stream",
          "text": []
        },
        {
          "name": "stdout",
          "output_type": "stream",
          "text": [
            "MoviePy - Done.\n",
            "Converted videos/inteligencia-artificial-y-computacion-cognitiva/video_24.mp4 to audio/inteligencia-artificial-y-computacion-cognitiva/video_24.mp3\n",
            "MoviePy - Writing audio in audio/inteligencia-artificial-y-computacion-cognitiva/video_32.mp3\n"
          ]
        },
        {
          "name": "stderr",
          "output_type": "stream",
          "text": []
        },
        {
          "name": "stdout",
          "output_type": "stream",
          "text": [
            "MoviePy - Done.\n",
            "Converted videos/inteligencia-artificial-y-computacion-cognitiva/video_32.mp4 to audio/inteligencia-artificial-y-computacion-cognitiva/video_32.mp3\n",
            "MoviePy - Writing audio in audio/inteligencia-artificial-y-computacion-cognitiva/video_26.mp3\n"
          ]
        },
        {
          "name": "stderr",
          "output_type": "stream",
          "text": []
        },
        {
          "name": "stdout",
          "output_type": "stream",
          "text": [
            "MoviePy - Done.\n",
            "Converted videos/inteligencia-artificial-y-computacion-cognitiva/video_26.mp4 to audio/inteligencia-artificial-y-computacion-cognitiva/video_26.mp3\n",
            "MoviePy - Writing audio in audio/inteligencia-artificial-y-computacion-cognitiva/video_34.mp3\n"
          ]
        },
        {
          "name": "stderr",
          "output_type": "stream",
          "text": []
        },
        {
          "name": "stdout",
          "output_type": "stream",
          "text": [
            "MoviePy - Done.\n",
            "Converted videos/inteligencia-artificial-y-computacion-cognitiva/video_34.mp4 to audio/inteligencia-artificial-y-computacion-cognitiva/video_34.mp3\n",
            "MoviePy - Writing audio in audio/inteligencia-artificial-y-computacion-cognitiva/video_50.mp3\n"
          ]
        },
        {
          "name": "stderr",
          "output_type": "stream",
          "text": []
        },
        {
          "name": "stdout",
          "output_type": "stream",
          "text": [
            "MoviePy - Done.\n",
            "Converted videos/inteligencia-artificial-y-computacion-cognitiva/video_50.mp4 to audio/inteligencia-artificial-y-computacion-cognitiva/video_50.mp3\n",
            "MoviePy - Writing audio in audio/inteligencia-artificial-y-computacion-cognitiva/video_38.mp3\n"
          ]
        },
        {
          "name": "stderr",
          "output_type": "stream",
          "text": []
        },
        {
          "name": "stdout",
          "output_type": "stream",
          "text": [
            "MoviePy - Done.\n",
            "Converted videos/inteligencia-artificial-y-computacion-cognitiva/video_38.mp4 to audio/inteligencia-artificial-y-computacion-cognitiva/video_38.mp3\n",
            "MoviePy - Writing audio in audio/inteligencia-artificial-y-computacion-cognitiva/video_36.mp3\n"
          ]
        },
        {
          "name": "stderr",
          "output_type": "stream",
          "text": []
        },
        {
          "name": "stdout",
          "output_type": "stream",
          "text": [
            "MoviePy - Done.\n",
            "Converted videos/inteligencia-artificial-y-computacion-cognitiva/video_36.mp4 to audio/inteligencia-artificial-y-computacion-cognitiva/video_36.mp3\n",
            "MoviePy - Writing audio in audio/inteligencia-artificial-y-computacion-cognitiva/video_6.mp3\n"
          ]
        },
        {
          "name": "stderr",
          "output_type": "stream",
          "text": []
        },
        {
          "name": "stdout",
          "output_type": "stream",
          "text": [
            "MoviePy - Done.\n",
            "Converted videos/inteligencia-artificial-y-computacion-cognitiva/video_6.mp4 to audio/inteligencia-artificial-y-computacion-cognitiva/video_6.mp3\n",
            "MoviePy - Writing audio in audio/inteligencia-artificial-y-computacion-cognitiva/video_21.mp3\n"
          ]
        },
        {
          "name": "stderr",
          "output_type": "stream",
          "text": []
        },
        {
          "name": "stdout",
          "output_type": "stream",
          "text": [
            "MoviePy - Done.\n",
            "Converted videos/inteligencia-artificial-y-computacion-cognitiva/video_21.mp4 to audio/inteligencia-artificial-y-computacion-cognitiva/video_21.mp3\n",
            "MoviePy - Writing audio in audio/inteligencia-artificial-y-computacion-cognitiva/video_28.mp3\n"
          ]
        },
        {
          "name": "stderr",
          "output_type": "stream",
          "text": []
        },
        {
          "name": "stdout",
          "output_type": "stream",
          "text": [
            "MoviePy - Done.\n",
            "Converted videos/inteligencia-artificial-y-computacion-cognitiva/video_28.mp4 to audio/inteligencia-artificial-y-computacion-cognitiva/video_28.mp3\n",
            "MoviePy - Writing audio in audio/inteligencia-artificial-y-computacion-cognitiva/video_37.mp3\n"
          ]
        },
        {
          "name": "stderr",
          "output_type": "stream",
          "text": []
        },
        {
          "name": "stdout",
          "output_type": "stream",
          "text": [
            "MoviePy - Done.\n",
            "Converted videos/inteligencia-artificial-y-computacion-cognitiva/video_37.mp4 to audio/inteligencia-artificial-y-computacion-cognitiva/video_37.mp3\n",
            "MoviePy - Writing audio in audio/inteligencia-artificial-y-computacion-cognitiva/video_39.mp3\n"
          ]
        },
        {
          "name": "stderr",
          "output_type": "stream",
          "text": []
        },
        {
          "name": "stdout",
          "output_type": "stream",
          "text": [
            "MoviePy - Done.\n",
            "Converted videos/inteligencia-artificial-y-computacion-cognitiva/video_39.mp4 to audio/inteligencia-artificial-y-computacion-cognitiva/video_39.mp3\n",
            "MoviePy - Writing audio in audio/inteligencia-artificial-y-computacion-cognitiva/video_58.mp3\n"
          ]
        },
        {
          "name": "stderr",
          "output_type": "stream",
          "text": []
        },
        {
          "name": "stdout",
          "output_type": "stream",
          "text": [
            "MoviePy - Done.\n",
            "Converted videos/inteligencia-artificial-y-computacion-cognitiva/video_58.mp4 to audio/inteligencia-artificial-y-computacion-cognitiva/video_58.mp3\n",
            "MoviePy - Writing audio in audio/inteligencia-artificial-y-computacion-cognitiva/video_19.mp3\n"
          ]
        },
        {
          "name": "stderr",
          "output_type": "stream",
          "text": []
        },
        {
          "name": "stdout",
          "output_type": "stream",
          "text": [
            "MoviePy - Done.\n",
            "Converted videos/inteligencia-artificial-y-computacion-cognitiva/video_19.mp4 to audio/inteligencia-artificial-y-computacion-cognitiva/video_19.mp3\n",
            "MoviePy - Writing audio in audio/inteligencia-artificial-y-computacion-cognitiva/video_47.mp3\n"
          ]
        },
        {
          "name": "stderr",
          "output_type": "stream",
          "text": []
        },
        {
          "name": "stdout",
          "output_type": "stream",
          "text": [
            "MoviePy - Done.\n",
            "Converted videos/inteligencia-artificial-y-computacion-cognitiva/video_47.mp4 to audio/inteligencia-artificial-y-computacion-cognitiva/video_47.mp3\n",
            "MoviePy - Writing audio in audio/inteligencia-artificial-y-computacion-cognitiva/video_12.mp3\n"
          ]
        },
        {
          "name": "stderr",
          "output_type": "stream",
          "text": []
        },
        {
          "name": "stdout",
          "output_type": "stream",
          "text": [
            "MoviePy - Done.\n",
            "Converted videos/inteligencia-artificial-y-computacion-cognitiva/video_12.mp4 to audio/inteligencia-artificial-y-computacion-cognitiva/video_12.mp3\n",
            "MoviePy - Writing audio in audio/inteligencia-artificial-y-computacion-cognitiva/video_45.mp3\n"
          ]
        },
        {
          "name": "stderr",
          "output_type": "stream",
          "text": []
        },
        {
          "name": "stdout",
          "output_type": "stream",
          "text": [
            "MoviePy - Done.\n",
            "Converted videos/inteligencia-artificial-y-computacion-cognitiva/video_45.mp4 to audio/inteligencia-artificial-y-computacion-cognitiva/video_45.mp3\n",
            "MoviePy - Writing audio in audio/inteligencia-artificial-y-computacion-cognitiva/video_35.mp3\n"
          ]
        },
        {
          "name": "stderr",
          "output_type": "stream",
          "text": []
        },
        {
          "name": "stdout",
          "output_type": "stream",
          "text": [
            "MoviePy - Done.\n",
            "Converted videos/inteligencia-artificial-y-computacion-cognitiva/video_35.mp4 to audio/inteligencia-artificial-y-computacion-cognitiva/video_35.mp3\n",
            "MoviePy - Writing audio in audio/inteligencia-artificial-y-computacion-cognitiva/video_57.mp3\n"
          ]
        },
        {
          "name": "stderr",
          "output_type": "stream",
          "text": []
        },
        {
          "name": "stdout",
          "output_type": "stream",
          "text": [
            "MoviePy - Done.\n",
            "Converted videos/inteligencia-artificial-y-computacion-cognitiva/video_57.mp4 to audio/inteligencia-artificial-y-computacion-cognitiva/video_57.mp3\n",
            "MoviePy - Writing audio in audio/inteligencia-artificial-y-computacion-cognitiva/video_4.mp3\n"
          ]
        },
        {
          "name": "stderr",
          "output_type": "stream",
          "text": [
            "chunk:  99%|█████████▊| 5175/5253 [00:08<00:00, 812.04it/s, now=None]WARNING:py.warnings:/usr/local/lib/python3.10/dist-packages/moviepy/audio/io/readers.py:197: UserWarning: Error in file videos/inteligencia-artificial-y-computacion-cognitiva/video_4.mp4, At time t=238.15-238.20 seconds, indices wanted: 99626-101625, but len(buffer)=99627\n",
            "index 99627 is out of bounds for axis 0 with size 99627\n",
            "  warnings.warn(\"Error in file %s, \"%(self.filename)+\n",
            "\n"
          ]
        },
        {
          "name": "stdout",
          "output_type": "stream",
          "text": [
            "MoviePy - Done.\n",
            "Converted videos/inteligencia-artificial-y-computacion-cognitiva/video_4.mp4 to audio/inteligencia-artificial-y-computacion-cognitiva/video_4.mp3\n",
            "MoviePy - Writing audio in audio/inteligencia-artificial-y-computacion-cognitiva/video_29.mp3\n"
          ]
        },
        {
          "name": "stderr",
          "output_type": "stream",
          "text": []
        },
        {
          "name": "stdout",
          "output_type": "stream",
          "text": [
            "MoviePy - Done.\n",
            "Converted videos/inteligencia-artificial-y-computacion-cognitiva/video_29.mp4 to audio/inteligencia-artificial-y-computacion-cognitiva/video_29.mp3\n",
            "MoviePy - Writing audio in audio/inteligencia-artificial-y-computacion-cognitiva/video_22.mp3\n"
          ]
        },
        {
          "name": "stderr",
          "output_type": "stream",
          "text": []
        },
        {
          "name": "stdout",
          "output_type": "stream",
          "text": [
            "MoviePy - Done.\n",
            "Converted videos/inteligencia-artificial-y-computacion-cognitiva/video_22.mp4 to audio/inteligencia-artificial-y-computacion-cognitiva/video_22.mp3\n",
            "MoviePy - Writing audio in audio/inteligencia-artificial-y-computacion-cognitiva/video_10.mp3\n"
          ]
        },
        {
          "name": "stderr",
          "output_type": "stream",
          "text": []
        },
        {
          "name": "stdout",
          "output_type": "stream",
          "text": [
            "MoviePy - Done.\n",
            "Converted videos/inteligencia-artificial-y-computacion-cognitiva/video_10.mp4 to audio/inteligencia-artificial-y-computacion-cognitiva/video_10.mp3\n",
            "MoviePy - Writing audio in audio/inteligencia-artificial-y-computacion-cognitiva/video_8.mp3\n"
          ]
        },
        {
          "name": "stderr",
          "output_type": "stream",
          "text": []
        },
        {
          "name": "stdout",
          "output_type": "stream",
          "text": [
            "MoviePy - Done.\n",
            "Converted videos/inteligencia-artificial-y-computacion-cognitiva/video_8.mp4 to audio/inteligencia-artificial-y-computacion-cognitiva/video_8.mp3\n",
            "MoviePy - Writing audio in audio/inteligencia-artificial-y-computacion-cognitiva/video_33.mp3\n"
          ]
        },
        {
          "name": "stderr",
          "output_type": "stream",
          "text": []
        },
        {
          "name": "stdout",
          "output_type": "stream",
          "text": [
            "MoviePy - Done.\n",
            "Converted videos/inteligencia-artificial-y-computacion-cognitiva/video_33.mp4 to audio/inteligencia-artificial-y-computacion-cognitiva/video_33.mp3\n",
            "MoviePy - Writing audio in audio/inteligencia-artificial-y-computacion-cognitiva/video_18.mp3\n"
          ]
        },
        {
          "name": "stderr",
          "output_type": "stream",
          "text": []
        },
        {
          "name": "stdout",
          "output_type": "stream",
          "text": [
            "MoviePy - Done.\n",
            "Converted videos/inteligencia-artificial-y-computacion-cognitiva/video_18.mp4 to audio/inteligencia-artificial-y-computacion-cognitiva/video_18.mp3\n",
            "MoviePy - Writing audio in audio/inteligencia-artificial-y-computacion-cognitiva/video_44.mp3\n"
          ]
        },
        {
          "name": "stderr",
          "output_type": "stream",
          "text": []
        },
        {
          "name": "stdout",
          "output_type": "stream",
          "text": [
            "MoviePy - Done.\n",
            "Converted videos/inteligencia-artificial-y-computacion-cognitiva/video_44.mp4 to audio/inteligencia-artificial-y-computacion-cognitiva/video_44.mp3\n",
            "MoviePy - Writing audio in audio/inteligencia-artificial-y-computacion-cognitiva/video_43.mp3\n"
          ]
        },
        {
          "name": "stderr",
          "output_type": "stream",
          "text": []
        },
        {
          "name": "stdout",
          "output_type": "stream",
          "text": [
            "MoviePy - Done.\n",
            "Converted videos/inteligencia-artificial-y-computacion-cognitiva/video_43.mp4 to audio/inteligencia-artificial-y-computacion-cognitiva/video_43.mp3\n",
            "MoviePy - Writing audio in audio/inteligencia-artificial-y-computacion-cognitiva/video_1.mp3\n"
          ]
        },
        {
          "name": "stderr",
          "output_type": "stream",
          "text": []
        },
        {
          "name": "stdout",
          "output_type": "stream",
          "text": [
            "MoviePy - Done.\n",
            "Converted videos/inteligencia-artificial-y-computacion-cognitiva/video_1.mp4 to audio/inteligencia-artificial-y-computacion-cognitiva/video_1.mp3\n",
            "MoviePy - Writing audio in audio/inteligencia-artificial-y-computacion-cognitiva/video_53.mp3\n"
          ]
        },
        {
          "name": "stderr",
          "output_type": "stream",
          "text": []
        },
        {
          "name": "stdout",
          "output_type": "stream",
          "text": [
            "MoviePy - Done.\n",
            "Converted videos/inteligencia-artificial-y-computacion-cognitiva/video_53.mp4 to audio/inteligencia-artificial-y-computacion-cognitiva/video_53.mp3\n",
            "MoviePy - Writing audio in audio/inteligencia-artificial-y-computacion-cognitiva/video_2.mp3\n"
          ]
        },
        {
          "name": "stderr",
          "output_type": "stream",
          "text": []
        },
        {
          "name": "stdout",
          "output_type": "stream",
          "text": [
            "MoviePy - Done.\n",
            "Converted videos/inteligencia-artificial-y-computacion-cognitiva/video_2.mp4 to audio/inteligencia-artificial-y-computacion-cognitiva/video_2.mp3\n",
            "MoviePy - Writing audio in audio/inteligencia-artificial-y-computacion-cognitiva/video_40.mp3\n"
          ]
        },
        {
          "name": "stderr",
          "output_type": "stream",
          "text": []
        },
        {
          "name": "stdout",
          "output_type": "stream",
          "text": [
            "MoviePy - Done.\n",
            "Converted videos/inteligencia-artificial-y-computacion-cognitiva/video_40.mp4 to audio/inteligencia-artificial-y-computacion-cognitiva/video_40.mp3\n",
            "MoviePy - Writing audio in audio/inteligencia-artificial-y-computacion-cognitiva/video_20.mp3\n"
          ]
        },
        {
          "name": "stderr",
          "output_type": "stream",
          "text": []
        },
        {
          "name": "stdout",
          "output_type": "stream",
          "text": [
            "MoviePy - Done.\n",
            "Converted videos/inteligencia-artificial-y-computacion-cognitiva/video_20.mp4 to audio/inteligencia-artificial-y-computacion-cognitiva/video_20.mp3\n",
            "MoviePy - Writing audio in audio/inteligencia-artificial-y-computacion-cognitiva/video_55.mp3\n"
          ]
        },
        {
          "name": "stderr",
          "output_type": "stream",
          "text": []
        },
        {
          "name": "stdout",
          "output_type": "stream",
          "text": [
            "MoviePy - Done.\n",
            "Converted videos/inteligencia-artificial-y-computacion-cognitiva/video_55.mp4 to audio/inteligencia-artificial-y-computacion-cognitiva/video_55.mp3\n",
            "MoviePy - Writing audio in audio/inteligencia-artificial-y-computacion-cognitiva/video_42.mp3\n"
          ]
        },
        {
          "name": "stderr",
          "output_type": "stream",
          "text": []
        },
        {
          "name": "stdout",
          "output_type": "stream",
          "text": [
            "MoviePy - Done.\n",
            "Converted videos/inteligencia-artificial-y-computacion-cognitiva/video_42.mp4 to audio/inteligencia-artificial-y-computacion-cognitiva/video_42.mp3\n",
            "MoviePy - Writing audio in audio/inteligencia-artificial-y-computacion-cognitiva/video_25.mp3\n"
          ]
        },
        {
          "name": "stderr",
          "output_type": "stream",
          "text": []
        },
        {
          "name": "stdout",
          "output_type": "stream",
          "text": [
            "MoviePy - Done.\n",
            "Converted videos/inteligencia-artificial-y-computacion-cognitiva/video_25.mp4 to audio/inteligencia-artificial-y-computacion-cognitiva/video_25.mp3\n",
            "MoviePy - Writing audio in audio/inteligencia-artificial-y-computacion-cognitiva/video_7.mp3\n"
          ]
        },
        {
          "name": "stderr",
          "output_type": "stream",
          "text": []
        },
        {
          "name": "stdout",
          "output_type": "stream",
          "text": [
            "MoviePy - Done.\n",
            "Converted videos/inteligencia-artificial-y-computacion-cognitiva/video_7.mp4 to audio/inteligencia-artificial-y-computacion-cognitiva/video_7.mp3\n",
            "MoviePy - Writing audio in audio/inteligencia-artificial-y-computacion-cognitiva/video_11.mp3\n"
          ]
        },
        {
          "name": "stderr",
          "output_type": "stream",
          "text": []
        },
        {
          "name": "stdout",
          "output_type": "stream",
          "text": [
            "MoviePy - Done.\n",
            "Converted videos/inteligencia-artificial-y-computacion-cognitiva/video_11.mp4 to audio/inteligencia-artificial-y-computacion-cognitiva/video_11.mp3\n",
            "MoviePy - Writing audio in audio/inteligencia-artificial-y-computacion-cognitiva/video_5.mp3\n"
          ]
        },
        {
          "name": "stderr",
          "output_type": "stream",
          "text": []
        },
        {
          "name": "stdout",
          "output_type": "stream",
          "text": [
            "MoviePy - Done.\n",
            "Converted videos/inteligencia-artificial-y-computacion-cognitiva/video_5.mp4 to audio/inteligencia-artificial-y-computacion-cognitiva/video_5.mp3\n",
            "MoviePy - Writing audio in audio/inteligencia-artificial-y-computacion-cognitiva/video_27.mp3\n"
          ]
        },
        {
          "name": "stderr",
          "output_type": "stream",
          "text": [
            "                                                                       "
          ]
        },
        {
          "name": "stdout",
          "output_type": "stream",
          "text": [
            "MoviePy - Done.\n",
            "Converted videos/inteligencia-artificial-y-computacion-cognitiva/video_27.mp4 to audio/inteligencia-artificial-y-computacion-cognitiva/video_27.mp3\n"
          ]
        },
        {
          "name": "stderr",
          "output_type": "stream",
          "text": [
            "\r"
          ]
        }
      ],
      "source": [
        "convert_videos_to_audio(videos_folder, audio_folder)"
      ]
    },
    {
      "cell_type": "markdown",
      "metadata": {
        "id": "LjuNsdkibWLC"
      },
      "source": [
        "### Performing Transcriptions with OpenAI API"
      ]
    },
    {
      "cell_type": "code",
      "execution_count": 39,
      "metadata": {
        "id": "xqd-j5aibZEE"
      },
      "outputs": [],
      "source": [
        "from openai import OpenAI\n",
        "\n",
        "client = OpenAI(api_key=\"sk-xxx\")"
      ]
    },
    {
      "cell_type": "code",
      "execution_count": 40,
      "metadata": {
        "id": "sdwM4jR-bvXx"
      },
      "outputs": [],
      "source": [
        "def transcribe_audio_file(client, audio_file_path):\n",
        "    \"\"\" Transcribe the audio file using OpenAI's Whisper model \"\"\"\n",
        "    with open(audio_file_path, \"rb\") as audio_file:\n",
        "        transcript = client.audio.transcriptions.create(\n",
        "            model=\"whisper-1\",\n",
        "            file=audio_file,\n",
        "            language=\"es\",\n",
        "            prompt=\"Hola, esta es una clase de maestría en inteligencia artificial.\",\n",
        "        )\n",
        "    return transcript.text"
      ]
    },
    {
      "cell_type": "code",
      "execution_count": 41,
      "metadata": {
        "id": "jAVK-luAbyGJ"
      },
      "outputs": [],
      "source": [
        "def transcribe_and_save_all_audio(audio_folder, transcript_folder):\n",
        "    \"\"\" Transcribe all audio files in a folder and save the transcripts \"\"\"\n",
        "    os.makedirs(transcript_folder, exist_ok=True)\n",
        "\n",
        "    for filename in os.listdir(audio_folder):\n",
        "        if filename.endswith('.mp3'):\n",
        "            audio_file_path = os.path.join(audio_folder, filename)\n",
        "            transcript_filename = filename.replace('.mp3', '_default.txt')\n",
        "            transcript_file_path = os.path.join(transcript_folder, transcript_filename)\n",
        "\n",
        "            transcript_text = transcribe_audio_file(client, audio_file_path)\n",
        "            with open(transcript_file_path, \"w\", encoding=\"utf-8\") as f:\n",
        "                f.write(transcript_text)\n",
        "            print(f\"Transcript saved to {transcript_file_path}\")"
      ]
    },
    {
      "cell_type": "code",
      "execution_count": 42,
      "metadata": {
        "colab": {
          "base_uri": "https://localhost:8080/",
          "height": 0
        },
        "id": "4FxlfuT-b0yS",
        "outputId": "966e0077-d6b9-417f-ff27-bbedcb1b89b4"
      },
      "outputs": [
        {
          "name": "stdout",
          "output_type": "stream",
          "text": [
            "Transcript saved to transcripts/inteligencia-artificial-y-computacion-cognitiva/video_38_default.txt\n",
            "Transcript saved to transcripts/inteligencia-artificial-y-computacion-cognitiva/video_21_default.txt\n",
            "Transcript saved to transcripts/inteligencia-artificial-y-computacion-cognitiva/video_15_default.txt\n",
            "Transcript saved to transcripts/inteligencia-artificial-y-computacion-cognitiva/video_49_default.txt\n",
            "Transcript saved to transcripts/inteligencia-artificial-y-computacion-cognitiva/video_24_default.txt\n",
            "Transcript saved to transcripts/inteligencia-artificial-y-computacion-cognitiva/video_11_default.txt\n",
            "Transcript saved to transcripts/inteligencia-artificial-y-computacion-cognitiva/video_54_default.txt\n",
            "Transcript saved to transcripts/inteligencia-artificial-y-computacion-cognitiva/video_25_default.txt\n",
            "Transcript saved to transcripts/inteligencia-artificial-y-computacion-cognitiva/video_58_default.txt\n",
            "Transcript saved to transcripts/inteligencia-artificial-y-computacion-cognitiva/video_47_default.txt\n",
            "Transcript saved to transcripts/inteligencia-artificial-y-computacion-cognitiva/video_56_default.txt\n",
            "Transcript saved to transcripts/inteligencia-artificial-y-computacion-cognitiva/video_30_default.txt\n",
            "Transcript saved to transcripts/inteligencia-artificial-y-computacion-cognitiva/video_1_default.txt\n",
            "Transcript saved to transcripts/inteligencia-artificial-y-computacion-cognitiva/video_45_default.txt\n",
            "Transcript saved to transcripts/inteligencia-artificial-y-computacion-cognitiva/video_32_default.txt\n",
            "Transcript saved to transcripts/inteligencia-artificial-y-computacion-cognitiva/video_5_default.txt\n",
            "Transcript saved to transcripts/inteligencia-artificial-y-computacion-cognitiva/video_26_default.txt\n",
            "Transcript saved to transcripts/inteligencia-artificial-y-computacion-cognitiva/video_12_default.txt\n",
            "Transcript saved to transcripts/inteligencia-artificial-y-computacion-cognitiva/video_34_default.txt\n",
            "Transcript saved to transcripts/inteligencia-artificial-y-computacion-cognitiva/video_16_default.txt\n",
            "Transcript saved to transcripts/inteligencia-artificial-y-computacion-cognitiva/video_51_default.txt\n",
            "Transcript saved to transcripts/inteligencia-artificial-y-computacion-cognitiva/video_4_default.txt\n",
            "Transcript saved to transcripts/inteligencia-artificial-y-computacion-cognitiva/video_27_default.txt\n",
            "Transcript saved to transcripts/inteligencia-artificial-y-computacion-cognitiva/video_46_default.txt\n",
            "Transcript saved to transcripts/inteligencia-artificial-y-computacion-cognitiva/video_14_default.txt\n",
            "Transcript saved to transcripts/inteligencia-artificial-y-computacion-cognitiva/video_42_default.txt\n",
            "Transcript saved to transcripts/inteligencia-artificial-y-computacion-cognitiva/video_20_default.txt\n",
            "Transcript saved to transcripts/inteligencia-artificial-y-computacion-cognitiva/video_39_default.txt\n",
            "Transcript saved to transcripts/inteligencia-artificial-y-computacion-cognitiva/video_41_default.txt\n",
            "Transcript saved to transcripts/inteligencia-artificial-y-computacion-cognitiva/video_19_default.txt\n",
            "Transcript saved to transcripts/inteligencia-artificial-y-computacion-cognitiva/video_50_default.txt\n",
            "Transcript saved to transcripts/inteligencia-artificial-y-computacion-cognitiva/video_3_default.txt\n",
            "Transcript saved to transcripts/inteligencia-artificial-y-computacion-cognitiva/video_29_default.txt\n",
            "Transcript saved to transcripts/inteligencia-artificial-y-computacion-cognitiva/video_35_default.txt\n",
            "Transcript saved to transcripts/inteligencia-artificial-y-computacion-cognitiva/video_37_default.txt\n",
            "Transcript saved to transcripts/inteligencia-artificial-y-computacion-cognitiva/video_33_default.txt\n",
            "Transcript saved to transcripts/inteligencia-artificial-y-computacion-cognitiva/video_44_default.txt\n",
            "Transcript saved to transcripts/inteligencia-artificial-y-computacion-cognitiva/video_36_default.txt\n",
            "Transcript saved to transcripts/inteligencia-artificial-y-computacion-cognitiva/video_28_default.txt\n",
            "Transcript saved to transcripts/inteligencia-artificial-y-computacion-cognitiva/video_43_default.txt\n",
            "Transcript saved to transcripts/inteligencia-artificial-y-computacion-cognitiva/video_2_default.txt\n",
            "Transcript saved to transcripts/inteligencia-artificial-y-computacion-cognitiva/video_31_default.txt\n",
            "Transcript saved to transcripts/inteligencia-artificial-y-computacion-cognitiva/video_8_default.txt\n",
            "Transcript saved to transcripts/inteligencia-artificial-y-computacion-cognitiva/video_53_default.txt\n",
            "Transcript saved to transcripts/inteligencia-artificial-y-computacion-cognitiva/video_57_default.txt\n",
            "Transcript saved to transcripts/inteligencia-artificial-y-computacion-cognitiva/video_10_default.txt\n",
            "Transcript saved to transcripts/inteligencia-artificial-y-computacion-cognitiva/video_13_default.txt\n",
            "Transcript saved to transcripts/inteligencia-artificial-y-computacion-cognitiva/video_6_default.txt\n",
            "Transcript saved to transcripts/inteligencia-artificial-y-computacion-cognitiva/video_22_default.txt\n",
            "Transcript saved to transcripts/inteligencia-artificial-y-computacion-cognitiva/video_55_default.txt\n",
            "Transcript saved to transcripts/inteligencia-artificial-y-computacion-cognitiva/video_7_default.txt\n",
            "Transcript saved to transcripts/inteligencia-artificial-y-computacion-cognitiva/video_17_default.txt\n",
            "Transcript saved to transcripts/inteligencia-artificial-y-computacion-cognitiva/video_23_default.txt\n",
            "Transcript saved to transcripts/inteligencia-artificial-y-computacion-cognitiva/video_18_default.txt\n",
            "Transcript saved to transcripts/inteligencia-artificial-y-computacion-cognitiva/video_9_default.txt\n",
            "Transcript saved to transcripts/inteligencia-artificial-y-computacion-cognitiva/video_40_default.txt\n",
            "Transcript saved to transcripts/inteligencia-artificial-y-computacion-cognitiva/video_52_default.txt\n",
            "Transcript saved to transcripts/inteligencia-artificial-y-computacion-cognitiva/video_48_default.txt\n"
          ]
        }
      ],
      "source": [
        "transcribe_and_save_all_audio(audio_folder, transcripts_folder)"
      ]
    },
    {
      "cell_type": "markdown",
      "metadata": {
        "id": "ALuXkw1K5dsQ"
      },
      "source": [
        "### Formatting folders & files"
      ]
    },
    {
      "cell_type": "code",
      "execution_count": 3,
      "metadata": {
        "id": "uLmmFfjz9SE-"
      },
      "outputs": [],
      "source": [
        "import os\n",
        "import shutil\n",
        "import pandas as pd"
      ]
    },
    {
      "cell_type": "code",
      "execution_count": 4,
      "metadata": {
        "id": "3By1Kpcn5dBv"
      },
      "outputs": [],
      "source": [
        "def create_folder_structure(df, transcript_dir, base_dir):\n",
        "    for index, row in df.iterrows():\n",
        "        # Crear un nombre de carpeta seguro para el sistema de archivos\n",
        "        tema_folder_name = row['tema'].replace(' ', '_').replace('.', '').replace('∧', '')\n",
        "        tema_folder_path = os.path.join(base_dir, tema_folder_name)\n",
        "\n",
        "        # Crear la carpeta del tema si no existe\n",
        "        if not os.path.exists(tema_folder_path):\n",
        "            os.makedirs(tema_folder_path)\n",
        "\n",
        "        # Construir el nuevo nombre de archivo de transcripción\n",
        "        class_name = row['nombre'].split('.')[0]  # Remover la palabra 'Página'\n",
        "        class_file_name = f\"{class_name.replace(' ', '_').replace('.', '')}.txt\"\n",
        "        new_file_path = os.path.join(tema_folder_path, class_file_name)\n",
        "\n",
        "        # Mover el archivo de transcripción al nuevo directorio\n",
        "        # Asumiendo que el nombre del archivo es 'video_X_default.txt' donde X es el índice + 1\n",
        "        old_file_path = os.path.join(transcript_dir, f\"video_{index + 1}_default.txt\")\n",
        "        if os.path.exists(old_file_path):\n",
        "            shutil.move(old_file_path, new_file_path)\n",
        "        else:\n",
        "            print(f\"No se encontró el archivo de transcripción: {old_file_path}\")"
      ]
    },
    {
      "cell_type": "code",
      "execution_count": 10,
      "metadata": {
        "colab": {
          "base_uri": "https://localhost:8080/",
          "height": 0
        },
        "id": "_jOELgnD9lE7",
        "outputId": "9845c633-3bb4-4404-979e-620756752e2a"
      },
      "outputs": [
        {
          "name": "stdout",
          "output_type": "stream",
          "text": [
            "No se encontró el archivo de transcripción: transcripts/percepcion-computacional\\video_1_default.txt\n",
            "No se encontró el archivo de transcripción: transcripts/percepcion-computacional\\video_2_default.txt\n",
            "No se encontró el archivo de transcripción: transcripts/percepcion-computacional\\video_3_default.txt\n",
            "No se encontró el archivo de transcripción: transcripts/percepcion-computacional\\video_4_default.txt\n",
            "No se encontró el archivo de transcripción: transcripts/percepcion-computacional\\video_5_default.txt\n",
            "No se encontró el archivo de transcripción: transcripts/percepcion-computacional\\video_6_default.txt\n",
            "No se encontró el archivo de transcripción: transcripts/percepcion-computacional\\video_7_default.txt\n",
            "No se encontró el archivo de transcripción: transcripts/percepcion-computacional\\video_8_default.txt\n",
            "No se encontró el archivo de transcripción: transcripts/percepcion-computacional\\video_9_default.txt\n",
            "No se encontró el archivo de transcripción: transcripts/percepcion-computacional\\video_10_default.txt\n",
            "No se encontró el archivo de transcripción: transcripts/percepcion-computacional\\video_11_default.txt\n",
            "No se encontró el archivo de transcripción: transcripts/percepcion-computacional\\video_12_default.txt\n",
            "No se encontró el archivo de transcripción: transcripts/percepcion-computacional\\video_13_default.txt\n",
            "No se encontró el archivo de transcripción: transcripts/percepcion-computacional\\video_14_default.txt\n",
            "No se encontró el archivo de transcripción: transcripts/percepcion-computacional\\video_15_default.txt\n",
            "No se encontró el archivo de transcripción: transcripts/percepcion-computacional\\video_16_default.txt\n",
            "No se encontró el archivo de transcripción: transcripts/percepcion-computacional\\video_17_default.txt\n",
            "No se encontró el archivo de transcripción: transcripts/percepcion-computacional\\video_18_default.txt\n",
            "No se encontró el archivo de transcripción: transcripts/percepcion-computacional\\video_19_default.txt\n",
            "No se encontró el archivo de transcripción: transcripts/percepcion-computacional\\video_20_default.txt\n",
            "No se encontró el archivo de transcripción: transcripts/percepcion-computacional\\video_21_default.txt\n",
            "No se encontró el archivo de transcripción: transcripts/percepcion-computacional\\video_22_default.txt\n",
            "No se encontró el archivo de transcripción: transcripts/percepcion-computacional\\video_23_default.txt\n",
            "No se encontró el archivo de transcripción: transcripts/percepcion-computacional\\video_24_default.txt\n",
            "No se encontró el archivo de transcripción: transcripts/percepcion-computacional\\video_25_default.txt\n",
            "No se encontró el archivo de transcripción: transcripts/percepcion-computacional\\video_26_default.txt\n",
            "No se encontró el archivo de transcripción: transcripts/percepcion-computacional\\video_27_default.txt\n",
            "No se encontró el archivo de transcripción: transcripts/percepcion-computacional\\video_28_default.txt\n",
            "No se encontró el archivo de transcripción: transcripts/percepcion-computacional\\video_29_default.txt\n",
            "No se encontró el archivo de transcripción: transcripts/percepcion-computacional\\video_30_default.txt\n",
            "No se encontró el archivo de transcripción: transcripts/percepcion-computacional\\video_31_default.txt\n",
            "No se encontró el archivo de transcripción: transcripts/percepcion-computacional\\video_32_default.txt\n",
            "No se encontró el archivo de transcripción: transcripts/percepcion-computacional\\video_33_default.txt\n",
            "No se encontró el archivo de transcripción: transcripts/percepcion-computacional\\video_34_default.txt\n",
            "No se encontró el archivo de transcripción: transcripts/percepcion-computacional\\video_35_default.txt\n",
            "No se encontró el archivo de transcripción: transcripts/percepcion-computacional\\video_36_default.txt\n",
            "No se encontró el archivo de transcripción: transcripts/percepcion-computacional\\video_37_default.txt\n",
            "No se encontró el archivo de transcripción: transcripts/percepcion-computacional\\video_38_default.txt\n",
            "No se encontró el archivo de transcripción: transcripts/percepcion-computacional\\video_39_default.txt\n",
            "No se encontró el archivo de transcripción: transcripts/percepcion-computacional\\video_40_default.txt\n",
            "No se encontró el archivo de transcripción: transcripts/percepcion-computacional\\video_41_default.txt\n",
            "No se encontró el archivo de transcripción: transcripts/percepcion-computacional\\video_42_default.txt\n",
            "No se encontró el archivo de transcripción: transcripts/percepcion-computacional\\video_43_default.txt\n",
            "No se encontró el archivo de transcripción: transcripts/percepcion-computacional\\video_44_default.txt\n",
            "No se encontró el archivo de transcripción: transcripts/percepcion-computacional\\video_45_default.txt\n",
            "No se encontró el archivo de transcripción: transcripts/percepcion-computacional\\video_46_default.txt\n",
            "No se encontró el archivo de transcripción: transcripts/percepcion-computacional\\video_47_default.txt\n",
            "No se encontró el archivo de transcripción: transcripts/percepcion-computacional\\video_48_default.txt\n",
            "No se encontró el archivo de transcripción: transcripts/percepcion-computacional\\video_49_default.txt\n",
            "No se encontró el archivo de transcripción: transcripts/percepcion-computacional\\video_50_default.txt\n",
            "No se encontró el archivo de transcripción: transcripts/percepcion-computacional\\video_51_default.txt\n",
            "No se encontró el archivo de transcripción: transcripts/percepcion-computacional\\video_52_default.txt\n",
            "No se encontró el archivo de transcripción: transcripts/percepcion-computacional\\video_53_default.txt\n",
            "No se encontró el archivo de transcripción: transcripts/percepcion-computacional\\video_54_default.txt\n",
            "No se encontró el archivo de transcripción: transcripts/percepcion-computacional\\video_55_default.txt\n",
            "No se encontró el archivo de transcripción: transcripts/percepcion-computacional\\video_56_default.txt\n",
            "No se encontró el archivo de transcripción: transcripts/percepcion-computacional\\video_57_default.txt\n"
          ]
        }
      ],
      "source": [
        "df = pd.read_csv(csv_file)\n",
        "create_folder_structure(df, transcripts_folder, transcripts_folder)"
      ]
    },
    {
      "cell_type": "markdown",
      "metadata": {
        "id": "ujO09OZQb6mZ"
      },
      "source": [
        "### Merging Transcriptions"
      ]
    },
    {
      "cell_type": "code",
      "execution_count": 64,
      "metadata": {
        "id": "rhSd46Fu6RiU"
      },
      "outputs": [],
      "source": [
        "import pandas as pd\n",
        "import os"
      ]
    },
    {
      "cell_type": "code",
      "execution_count": 7,
      "metadata": {
        "id": "Ti_99XgwcCGe"
      },
      "outputs": [],
      "source": [
        "def merge_transcripts_with_structure(transcripts_base_folder, merged_file_path):\n",
        "    \"\"\"\n",
        "    Merge transcript files from structured theme folders into a single file.\n",
        "    \"\"\"\n",
        "    # Ensure the merged file directory exists\n",
        "    os.makedirs(os.path.dirname(merged_file_path), exist_ok=True)\n",
        "\n",
        "    with open(merged_file_path, 'w', encoding='utf-8') as merged_file:\n",
        "        # Walk through the theme directories\n",
        "        for root, dirs, files in os.walk(transcripts_base_folder):\n",
        "            # Sort directories to maintain order\n",
        "            dirs.sort()\n",
        "            for dir_name in dirs:\n",
        "                # Write the Tema heading\n",
        "                merged_file.write(f\"# {dir_name.replace('_', ' ')}\\n\\n\")\n",
        "\n",
        "                # Path to the theme directory\n",
        "                theme_dir_path = os.path.join(root, dir_name)\n",
        "                idea_files = sorted(os.listdir(theme_dir_path))  # Sort the idea files\n",
        "\n",
        "                for idea_file in idea_files:\n",
        "                    # Write the Idea Clave heading\n",
        "                    idea_name = os.path.splitext(idea_file)[0].replace('_', ' ')\n",
        "                    merged_file.write(f\"## {idea_name}\\n\\n\")\n",
        "\n",
        "                    # Full path to the idea transcript file\n",
        "                    idea_file_path = os.path.join(theme_dir_path, idea_file)\n",
        "\n",
        "                    # Write the transcript content\n",
        "                    with open(idea_file_path, 'r', encoding='utf-8') as f:\n",
        "                        transcript_text = f.read()\n",
        "                        merged_file.write(f\"{transcript_text}\\n\\n\")\n",
        "\n",
        "    print(f\"All transcripts merged into {merged_file_path}\")"
      ]
    },
    {
      "cell_type": "code",
      "execution_count": 11,
      "metadata": {
        "colab": {
          "base_uri": "https://localhost:8080/",
          "height": 0
        },
        "id": "FAsKOh5T8vks",
        "outputId": "082a5318-4eca-46bb-b8b5-90d6b18da306"
      },
      "outputs": [
        {
          "name": "stdout",
          "output_type": "stream",
          "text": [
            "All transcripts merged into merged/percepcion-computacional.txt\n"
          ]
        }
      ],
      "source": [
        "merged_file_path = f'merged/{COURSE_NAME}.md'\n",
        "videos_df = pd.read_csv(csv_file)\n",
        "\n",
        "merge_transcripts_with_structure(transcripts_folder, merged_file_path)"
      ]
    },
    {
      "cell_type": "code",
      "execution_count": 12,
      "metadata": {},
      "outputs": [
        {
          "data": {
            "text/plain": [
              "0     unir.cloud.panopto.eu\n",
              "1     unir.cloud.panopto.eu\n",
              "2     unir.cloud.panopto.eu\n",
              "3     unir.cloud.panopto.eu\n",
              "4     unir.cloud.panopto.eu\n",
              "5     unir.cloud.panopto.eu\n",
              "6     unir.cloud.panopto.eu\n",
              "7     unir.cloud.panopto.eu\n",
              "8     unir.cloud.panopto.eu\n",
              "9     unir.cloud.panopto.eu\n",
              "10    unir.cloud.panopto.eu\n",
              "11    unir.cloud.panopto.eu\n",
              "12    unir.cloud.panopto.eu\n",
              "13    unir.cloud.panopto.eu\n",
              "14    unir.cloud.panopto.eu\n",
              "15    unir.cloud.panopto.eu\n",
              "16    unir.cloud.panopto.eu\n",
              "17    unir.cloud.panopto.eu\n",
              "18    unir.cloud.panopto.eu\n",
              "19    unir.cloud.panopto.eu\n",
              "20    unir.cloud.panopto.eu\n",
              "21    unir.cloud.panopto.eu\n",
              "22    unir.cloud.panopto.eu\n",
              "23    unir.cloud.panopto.eu\n",
              "24    unir.cloud.panopto.eu\n",
              "25    unir.cloud.panopto.eu\n",
              "26    unir.cloud.panopto.eu\n",
              "27    unir.cloud.panopto.eu\n",
              "28    unir.cloud.panopto.eu\n",
              "29    unir.cloud.panopto.eu\n",
              "30    unir.cloud.panopto.eu\n",
              "31    unir.cloud.panopto.eu\n",
              "32    unir.cloud.panopto.eu\n",
              "33    unir.cloud.panopto.eu\n",
              "34    unir.cloud.panopto.eu\n",
              "35    unir.cloud.panopto.eu\n",
              "36    unir.cloud.panopto.eu\n",
              "37    unir.cloud.panopto.eu\n",
              "38    unir.cloud.panopto.eu\n",
              "39    unir.cloud.panopto.eu\n",
              "40    unir.cloud.panopto.eu\n",
              "41    unir.cloud.panopto.eu\n",
              "42    unir.cloud.panopto.eu\n",
              "43    unir.cloud.panopto.eu\n",
              "44    unir.cloud.panopto.eu\n",
              "45    unir.cloud.panopto.eu\n",
              "46    unir.cloud.panopto.eu\n",
              "47    unir.cloud.panopto.eu\n",
              "48    unir.cloud.panopto.eu\n",
              "49    unir.cloud.panopto.eu\n",
              "50    unir.cloud.panopto.eu\n",
              "51    unir.cloud.panopto.eu\n",
              "52    unir.cloud.panopto.eu\n",
              "53    unir.cloud.panopto.eu\n",
              "54    unir.cloud.panopto.eu\n",
              "55    unir.cloud.panopto.eu\n",
              "56    unir.cloud.panopto.eu\n",
              "57    unir.cloud.panopto.eu\n",
              "Name: provider, dtype: object"
            ]
          },
          "execution_count": 12,
          "metadata": {},
          "output_type": "execute_result"
        }
      ],
      "source": [
        "videos_df = pd.read_csv(\"videos_csv/inteligencia-artificial-y-computacion-cognitiva.csv\")\n",
        "videos_df['provider']"
      ]
    },
    {
      "cell_type": "code",
      "execution_count": 47,
      "metadata": {
        "colab": {
          "base_uri": "https://localhost:8080/",
          "height": 0
        },
        "id": "mZicYTKKuiqg",
        "outputId": "6783d52e-66c2-4f03-e83f-6ecaf85beee9"
      },
      "outputs": [
        {
          "name": "stdout",
          "output_type": "stream",
          "text": [
            "  adding: transcripts/inteligencia-artificial-y-computacion-cognitiva/ (stored 0%)\n",
            "  adding: transcripts/inteligencia-artificial-y-computacion-cognitiva/video_5_default.txt (deflated 60%)\n",
            "  adding: transcripts/inteligencia-artificial-y-computacion-cognitiva/video_34_default.txt (deflated 59%)\n",
            "  adding: transcripts/inteligencia-artificial-y-computacion-cognitiva/video_16_default.txt (deflated 61%)\n",
            "  adding: transcripts/inteligencia-artificial-y-computacion-cognitiva/video_43_default.txt (deflated 63%)\n",
            "  adding: transcripts/inteligencia-artificial-y-computacion-cognitiva/video_37_default.txt (deflated 62%)\n",
            "  adding: transcripts/inteligencia-artificial-y-computacion-cognitiva/video_30_default.txt (deflated 59%)\n",
            "  adding: transcripts/inteligencia-artificial-y-computacion-cognitiva/video_7_default.txt (deflated 61%)\n",
            "  adding: transcripts/inteligencia-artificial-y-computacion-cognitiva/video_33_default.txt (deflated 61%)\n",
            "  adding: transcripts/inteligencia-artificial-y-computacion-cognitiva/video_1_default.txt (deflated 64%)\n",
            "  adding: transcripts/inteligencia-artificial-y-computacion-cognitiva/video_48_default.txt (deflated 56%)\n",
            "  adding: transcripts/inteligencia-artificial-y-computacion-cognitiva/video_9_default.txt (deflated 58%)\n",
            "  adding: transcripts/inteligencia-artificial-y-computacion-cognitiva/video_11_default.txt (deflated 58%)\n",
            "  adding: transcripts/inteligencia-artificial-y-computacion-cognitiva/video_32_default.txt (deflated 61%)\n",
            "  adding: transcripts/inteligencia-artificial-y-computacion-cognitiva/video_52_default.txt (deflated 58%)\n",
            "  adding: transcripts/inteligencia-artificial-y-computacion-cognitiva/video_27_default.txt (deflated 63%)\n",
            "  adding: transcripts/inteligencia-artificial-y-computacion-cognitiva/video_40_default.txt (deflated 61%)\n",
            "  adding: transcripts/inteligencia-artificial-y-computacion-cognitiva/video_17_default.txt (deflated 64%)\n",
            "  adding: transcripts/inteligencia-artificial-y-computacion-cognitiva/video_3_default.txt (deflated 60%)\n",
            "  adding: transcripts/inteligencia-artificial-y-computacion-cognitiva/video_53_default.txt (deflated 61%)\n",
            "  adding: transcripts/inteligencia-artificial-y-computacion-cognitiva/video_58_default.txt (deflated 64%)\n",
            "  adding: transcripts/inteligencia-artificial-y-computacion-cognitiva/video_15_default.txt (deflated 59%)\n",
            "  adding: transcripts/inteligencia-artificial-y-computacion-cognitiva/video_45_default.txt (deflated 60%)\n",
            "  adding: transcripts/inteligencia-artificial-y-computacion-cognitiva/video_29_default.txt (deflated 59%)\n",
            "  adding: transcripts/inteligencia-artificial-y-computacion-cognitiva/video_2_default.txt (deflated 61%)\n",
            "  adding: transcripts/inteligencia-artificial-y-computacion-cognitiva/video_10_default.txt (deflated 60%)\n",
            "  adding: transcripts/inteligencia-artificial-y-computacion-cognitiva/video_6_default.txt (deflated 54%)\n",
            "  adding: transcripts/inteligencia-artificial-y-computacion-cognitiva/video_57_default.txt (deflated 60%)\n",
            "  adding: transcripts/inteligencia-artificial-y-computacion-cognitiva/video_14_default.txt (deflated 57%)\n",
            "  adding: transcripts/inteligencia-artificial-y-computacion-cognitiva/video_41_default.txt (deflated 64%)\n",
            "  adding: transcripts/inteligencia-artificial-y-computacion-cognitiva/video_8_default.txt (deflated 62%)\n",
            "  adding: transcripts/inteligencia-artificial-y-computacion-cognitiva/video_28_default.txt (deflated 62%)\n",
            "  adding: transcripts/inteligencia-artificial-y-computacion-cognitiva/video_23_default.txt (deflated 59%)\n",
            "  adding: transcripts/inteligencia-artificial-y-computacion-cognitiva/video_4_default.txt (deflated 58%)\n",
            "  adding: transcripts/inteligencia-artificial-y-computacion-cognitiva/video_12_default.txt (deflated 60%)\n",
            "  adding: transcripts/inteligencia-artificial-y-computacion-cognitiva/video_42_default.txt (deflated 60%)\n",
            "  adding: transcripts/inteligencia-artificial-y-computacion-cognitiva/video_46_default.txt (deflated 58%)\n",
            "  adding: transcripts/inteligencia-artificial-y-computacion-cognitiva/video_31_default.txt (deflated 60%)\n",
            "  adding: transcripts/inteligencia-artificial-y-computacion-cognitiva/video_36_default.txt (deflated 61%)\n",
            "  adding: transcripts/inteligencia-artificial-y-computacion-cognitiva/video_35_default.txt (deflated 61%)\n",
            "  adding: transcripts/inteligencia-artificial-y-computacion-cognitiva/video_24_default.txt (deflated 62%)\n",
            "  adding: transcripts/inteligencia-artificial-y-computacion-cognitiva/video_18_default.txt (deflated 60%)\n",
            "  adding: transcripts/inteligencia-artificial-y-computacion-cognitiva/video_56_default.txt (deflated 65%)\n",
            "  adding: transcripts/inteligencia-artificial-y-computacion-cognitiva/video_26_default.txt (deflated 62%)\n",
            "  adding: transcripts/inteligencia-artificial-y-computacion-cognitiva/video_55_default.txt (deflated 56%)\n",
            "  adding: transcripts/inteligencia-artificial-y-computacion-cognitiva/video_47_default.txt (deflated 64%)\n",
            "  adding: transcripts/inteligencia-artificial-y-computacion-cognitiva/video_20_default.txt (deflated 58%)\n",
            "  adding: transcripts/inteligencia-artificial-y-computacion-cognitiva/video_49_default.txt (deflated 59%)\n",
            "  adding: transcripts/inteligencia-artificial-y-computacion-cognitiva/video_50_default.txt (deflated 60%)\n",
            "  adding: transcripts/inteligencia-artificial-y-computacion-cognitiva/video_38_default.txt (deflated 62%)\n",
            "  adding: transcripts/inteligencia-artificial-y-computacion-cognitiva/video_19_default.txt (deflated 55%)\n",
            "  adding: transcripts/inteligencia-artificial-y-computacion-cognitiva/video_44_default.txt (deflated 62%)\n",
            "  adding: transcripts/inteligencia-artificial-y-computacion-cognitiva/video_21_default.txt (deflated 60%)\n",
            "  adding: transcripts/inteligencia-artificial-y-computacion-cognitiva/video_39_default.txt (deflated 62%)\n",
            "  adding: transcripts/inteligencia-artificial-y-computacion-cognitiva/video_51_default.txt (deflated 66%)\n",
            "  adding: transcripts/inteligencia-artificial-y-computacion-cognitiva/video_25_default.txt (deflated 62%)\n",
            "  adding: transcripts/inteligencia-artificial-y-computacion-cognitiva/video_13_default.txt (deflated 59%)\n",
            "  adding: transcripts/inteligencia-artificial-y-computacion-cognitiva/video_22_default.txt (deflated 59%)\n",
            "  adding: transcripts/inteligencia-artificial-y-computacion-cognitiva/video_54_default.txt (deflated 61%)\n"
          ]
        }
      ],
      "source": [
        "!zip -r merged.zip transcripts/inteligencia-artificial-y-computacion-cognitiva/"
      ]
    }
  ],
  "metadata": {
    "colab": {
      "provenance": []
    },
    "kernelspec": {
      "display_name": "Python 3",
      "name": "python3"
    },
    "language_info": {
      "codemirror_mode": {
        "name": "ipython",
        "version": 3
      },
      "file_extension": ".py",
      "mimetype": "text/x-python",
      "name": "python",
      "nbconvert_exporter": "python",
      "pygments_lexer": "ipython3",
      "version": "3.10.11"
    }
  },
  "nbformat": 4,
  "nbformat_minor": 0
}
